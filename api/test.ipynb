{
 "cells": [
  {
   "cell_type": "code",
   "execution_count": 117,
   "metadata": {},
   "outputs": [],
   "source": [
    "import numpy as np\n",
    "from PIL import Image\n",
    "from tensorflow import keras\n",
    "from tensorflow.keras.models import load_model\n",
    "from skimage.color import rgb2gray\n",
    "from skimage.io import imread, imshow\n",
    "from skimage import data, color, io, filters, morphology,transform, exposure, feature, util\n",
    "import os"
   ]
  },
  {
   "cell_type": "code",
   "execution_count": 118,
   "metadata": {},
   "outputs": [],
   "source": [
    "model = load_model('.//lung_mask.h5', compile=False) # Model"
   ]
  },
  {
   "cell_type": "code",
   "execution_count": 119,
   "metadata": {},
   "outputs": [
    {
     "name": "stdout",
     "output_type": "stream",
     "text": [
      "Model: \"model\"\n",
      "_________________________________________________________________\n",
      " Layer (type)                Output Shape              Param #   \n",
      "=================================================================\n",
      " input_1 (InputLayer)        [(None, 128, 128, 3)]     0         \n",
      "                                                                 \n",
      " conv2d (Conv2D)             (None, 128, 128, 16)      448       \n",
      "                                                                 \n",
      " max_pooling2d (MaxPooling2D  (None, 64, 64, 16)       0         \n",
      " )                                                               \n",
      "                                                                 \n",
      " conv2d_1 (Conv2D)           (None, 64, 64, 8)         1160      \n",
      "                                                                 \n",
      " max_pooling2d_1 (MaxPooling  (None, 32, 32, 8)        0         \n",
      " 2D)                                                             \n",
      "                                                                 \n",
      " conv2d_2 (Conv2D)           (None, 32, 32, 8)         584       \n",
      "                                                                 \n",
      " max_pooling2d_2 (MaxPooling  (None, 16, 16, 8)        0         \n",
      " 2D)                                                             \n",
      "                                                                 \n",
      " conv2d_transpose (Conv2DTra  (None, 16, 16, 8)        584       \n",
      " nspose)                                                         \n",
      "                                                                 \n",
      " up_sampling2d (UpSampling2D  (None, 32, 32, 8)        0         \n",
      " )                                                               \n",
      "                                                                 \n",
      " conv2d_transpose_1 (Conv2DT  (None, 32, 32, 8)        584       \n",
      " ranspose)                                                       \n",
      "                                                                 \n",
      " up_sampling2d_1 (UpSampling  (None, 64, 64, 8)        0         \n",
      " 2D)                                                             \n",
      "                                                                 \n",
      " conv2d_transpose_2 (Conv2DT  (None, 64, 64, 16)       1168      \n",
      " ranspose)                                                       \n",
      "                                                                 \n",
      " up_sampling2d_2 (UpSampling  (None, 128, 128, 16)     0         \n",
      " 2D)                                                             \n",
      "                                                                 \n",
      " conv2d_3 (Conv2D)           (None, 128, 128, 3)       435       \n",
      "                                                                 \n",
      "=================================================================\n",
      "Total params: 4,963\n",
      "Trainable params: 4,963\n",
      "Non-trainable params: 0\n",
      "_________________________________________________________________\n"
     ]
    }
   ],
   "source": [
    "model.summary()"
   ]
  },
  {
   "cell_type": "code",
   "execution_count": 120,
   "metadata": {},
   "outputs": [
    {
     "name": "stdout",
     "output_type": "stream",
     "text": [
      "Type image:  <class 'PIL.JpegImagePlugin.JpegImageFile'>\n"
     ]
    }
   ],
   "source": [
    "img = Image.open('.\\\\f12063879a29e672f675977fabdc89_gallery.jpeg')\n",
    "print(\"Type image: \", type(img))"
   ]
  },
  {
   "cell_type": "code",
   "execution_count": 121,
   "metadata": {},
   "outputs": [
    {
     "name": "stdout",
     "output_type": "stream",
     "text": [
      "ext \n",
      "ext .jpeg\n",
      "im [[ 68  68  68 ... 187 184 187]\n",
      " [ 22  22  22 ... 178 178 182]\n",
      " [  0   0   0 ... 159 161 165]\n",
      " ...\n",
      " [ 32  37  41 ...   0   0   0]\n",
      " [ 32  39  43 ...   0   0   0]\n",
      " [ 32  39  43 ...   0   0   0]]\n",
      "type im <class 'numpy.ndarray'>\n",
      "ext .h5\n",
      "ext .py\n",
      "ext \n",
      "ext .txt\n",
      "ext .ipynb\n",
      "(128, 128, 3)\n"
     ]
    }
   ],
   "source": [
    "\n",
    "\n",
    "lung_images = []\n",
    "lung_masks = []\n",
    "\n",
    "# Read lung images\n",
    "path  = '../api/'\n",
    "valid_images = [\".jpg\",\".gif\",\".png\",\".jpeg\"]\n",
    "\n",
    "for f in os.listdir(path):\n",
    "    ext = os.path.splitext(f)[1]\n",
    "    print('ext',ext)\n",
    "    if ext.lower() not in valid_images:\n",
    "        continue\n",
    "    im = imread(os.path.join(path,f))\n",
    "    print('im',im)\n",
    "    print('type im',type(im))\n",
    "    img = transform.resize(im, (128, 128,3), mode='constant', anti_aliasing=True)\n",
    "    # Turn image into grayscale\n",
    "    #im = rgb2gray(im)\n",
    "    #imshow(im)\n",
    "    img.shape\n",
    "    lung_images.append(img)\n",
    "print(lung_images[0].shape)\n"
   ]
  },
  {
   "cell_type": "code",
   "execution_count": 122,
   "metadata": {},
   "outputs": [],
   "source": [
    "lung_images = np.array(lung_images)\n",
    "lung_images = lung_images.reshape(len(lung_images),128,128,3)\n"
   ]
  },
  {
   "cell_type": "code",
   "execution_count": 123,
   "metadata": {},
   "outputs": [
    {
     "data": {
      "text/plain": [
       "(1, 128, 128, 3)"
      ]
     },
     "execution_count": 123,
     "metadata": {},
     "output_type": "execute_result"
    }
   ],
   "source": [
    "\n",
    "lung_images.shape\n"
   ]
  },
  {
   "cell_type": "code",
   "execution_count": 124,
   "metadata": {},
   "outputs": [
    {
     "name": "stdout",
     "output_type": "stream",
     "text": [
      "WARNING:tensorflow:5 out of the last 10 calls to <function Model.make_predict_function.<locals>.predict_function at 0x0000025C4CFB3E50> triggered tf.function retracing. Tracing is expensive and the excessive number of tracings could be due to (1) creating @tf.function repeatedly in a loop, (2) passing tensors with different shapes, (3) passing Python objects instead of tensors. For (1), please define your @tf.function outside of the loop. For (2), @tf.function has reduce_retracing=True option that can avoid unnecessary retracing. For (3), please refer to https://www.tensorflow.org/guide/function#controlling_retracing and https://www.tensorflow.org/api_docs/python/tf/function for  more details.\n",
      "1/1 [==============================] - 0s 82ms/step\n"
     ]
    }
   ],
   "source": [
    "\n",
    "mask = model.predict(lung_images)"
   ]
  },
  {
   "cell_type": "code",
   "execution_count": 125,
   "metadata": {},
   "outputs": [
    {
     "name": "stdout",
     "output_type": "stream",
     "text": [
      "[[[[4.69164215e-02 2.47650221e-02 6.45892993e-02]\n",
      "   [1.38081647e-02 5.34255384e-03 1.47211291e-02]\n",
      "   [4.62586293e-03 6.18338468e-04 5.10151638e-03]\n",
      "   ...\n",
      "   [1.09267694e-05 1.48325441e-07 1.00814850e-05]\n",
      "   [3.61764141e-05 8.27484826e-07 3.68505280e-05]\n",
      "   [8.65225855e-04 3.18804668e-05 1.40649360e-03]]\n",
      "\n",
      "  [[1.50421485e-02 8.64927471e-03 1.68379266e-02]\n",
      "   [7.70476600e-03 3.57414968e-03 8.25246889e-03]\n",
      "   [1.37969689e-03 2.88122013e-04 1.61373266e-03]\n",
      "   ...\n",
      "   [3.33406689e-08 3.40335787e-10 5.37238591e-08]\n",
      "   [3.13752878e-07 2.49378207e-09 4.94607036e-07]\n",
      "   [4.71264320e-05 2.25894610e-07 1.34794900e-05]]\n",
      "\n",
      "  [[1.07072247e-02 4.34037251e-03 2.21576244e-02]\n",
      "   [1.23476554e-02 3.47785559e-03 1.86468754e-02]\n",
      "   [3.38195381e-03 3.56791163e-04 6.56333193e-03]\n",
      "   ...\n",
      "   [1.03132010e-08 6.03929060e-11 2.37230200e-08]\n",
      "   [8.29728464e-08 3.87789328e-10 1.55699212e-07]\n",
      "   [9.14344855e-06 3.75742495e-08 7.26273674e-06]]\n",
      "\n",
      "  ...\n",
      "\n",
      "  [[1.09509286e-02 8.15011002e-03 2.12319922e-02]\n",
      "   [1.67547483e-02 3.75402602e-03 1.25514856e-02]\n",
      "   [4.01475606e-03 4.12681024e-04 4.28663008e-03]\n",
      "   ...\n",
      "   [1.11137313e-08 3.17922605e-10 2.84699588e-08]\n",
      "   [9.02450722e-07 2.55595207e-08 8.01322415e-07]\n",
      "   [1.80500152e-04 1.18705821e-05 2.31128448e-04]]\n",
      "\n",
      "  [[2.24068351e-02 3.01584844e-02 3.24824788e-02]\n",
      "   [3.17992941e-02 1.47173945e-02 2.03687530e-02]\n",
      "   [8.90820846e-03 1.87547854e-03 7.05685560e-03]\n",
      "   ...\n",
      "   [2.97699273e-07 7.32436423e-09 1.80374968e-07]\n",
      "   [2.19519607e-05 8.29480541e-07 9.04773060e-06]\n",
      "   [2.98433960e-03 2.50195590e-04 1.26229576e-03]]\n",
      "\n",
      "  [[6.82522655e-02 1.41436011e-01 1.15546890e-01]\n",
      "   [5.95696382e-02 8.24646279e-02 5.26360795e-02]\n",
      "   [2.91878972e-02 2.64809392e-02 2.49594580e-02]\n",
      "   ...\n",
      "   [1.70603580e-05 7.95252618e-06 5.38474924e-05]\n",
      "   [5.99835068e-04 2.53567036e-04 1.00567029e-03]\n",
      "   [2.67124567e-02 1.81617048e-02 4.20052148e-02]]]]\n"
     ]
    }
   ],
   "source": [
    "print(mask)"
   ]
  },
  {
   "cell_type": "code",
   "execution_count": 126,
   "metadata": {},
   "outputs": [
    {
     "data": {
      "text/plain": [
       "<matplotlib.image.AxesImage at 0x25c533aaa30>"
      ]
     },
     "execution_count": 126,
     "metadata": {},
     "output_type": "execute_result"
    },
    {
     "data": {
      "image/png": "[encoded data removed]",
      "text/plain": [
       "<Figure size 640x480 with 1 Axes>"
      ]
     },
     "metadata": {},
     "output_type": "display_data"
    }
   ],
   "source": [
    "imshow(mask[0])"
   ]
  },
  {
   "cell_type": "code",
   "execution_count": null,
   "metadata": {},
   "outputs": [],
   "source": []
  },
  {
   "cell_type": "code",
   "execution_count": null,
   "metadata": {},
   "outputs": [],
   "source": []
  }
 ],
 "metadata": {
  "kernelspec": {
   "display_name": "tf",
   "language": "python",
   "name": "python3"
  },
  "language_info": {
   "codemirror_mode": {
    "name": "ipython",
    "version": 3
   },
   "file_extension": ".py",
   "mimetype": "text/x-python",
   "name": "python",
   "nbconvert_exporter": "python",
   "pygments_lexer": "ipython3",
   "version": "3.9.13 (main, Aug 25 2022, 23:51:50) [MSC v.1916 64 bit (AMD64)]"
  },
  "orig_nbformat": 4,
  "vscode": {
   "interpreter": {
    "hash": "31ae1a2e912376661e72d9e7e1a67608184604f7d82be21b727320ebb78eb836"
   }
  }
 },
 "nbformat": 4,
 "nbformat_minor": 2
}
